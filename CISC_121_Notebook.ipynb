{
  "nbformat": 4,
  "nbformat_minor": 0,
  "metadata": {
    "colab": {
      "provenance": [],
      "include_colab_link": true
    },
    "kernelspec": {
      "name": "python3",
      "display_name": "Python 3"
    },
    "language_info": {
      "name": "python"
    }
  },
  "cells": [
    {
      "cell_type": "markdown",
      "metadata": {
        "id": "view-in-github",
        "colab_type": "text"
      },
      "source": [
        "<a href=\"https://colab.research.google.com/github/crazysudz/queens-Michael-page/blob/main/CISC_121_Notebook.ipynb\" target=\"_parent\"><img src=\"https://colab.research.google.com/assets/colab-badge.svg\" alt=\"Open In Colab\"/></a>"
      ]
    },
    {
      "cell_type": "markdown",
      "metadata": {
        "id": "fde2b211"
      },
      "source": [
        "# Welcome to the CISC 121 Notebook!\n",
        "\n",
        "Hello CISC 121 students! Welcome to your first experience with Google Colab. This is a fantastic tool that allows you to write and run Python code directly in your web browser, without needing to install anything on your computer.\n",
        "\n",
        "Think of this notebook as an interactive document. It's made up of \"cells.\" There are two main types of cells:\n",
        "\n",
        "1.  **Text cells (like this one!):** These are for explanations, notes, and descriptions. You can format text using Markdown.\n",
        "2.  **Code cells:** These are where you'll write and execute your Python code.\n",
        "\n",
        "To run a code cell, simply click on it and press the \"play\" button that appears on the left side, or press **Shift + Enter**. The output of your code will appear directly below the cell.\n",
        "\n",
        "You are currently in your Colab environment, and you can see the notebook cells above. The file browser on the left (if you open it) shows you the files available in your current session.\n",
        "\n",
        "Follow along the lecture and run cool things in the next cell!"
      ]
    },
    {
      "cell_type": "code",
      "execution_count": null,
      "metadata": {
        "colab": {
          "base_uri": "https://localhost:8080/"
        },
        "id": "bY32tQQw3SFG",
        "outputId": "3ada466e-3bdd-4cb8-b460-df682b30cf8c"
      },
      "outputs": [
        {
          "output_type": "execute_result",
          "data": {
            "text/plain": [
              "648.56402"
            ]
          },
          "metadata": {},
          "execution_count": 1
        }
      ],
      "source": [
        "403 * 1.60934"
      ]
    },
    {
      "cell_type": "code",
      "source": [
        "distanceToLondonMiles = 403\n",
        "mileToKm = 1.60934\n",
        "distanceToLondonKm = distanceToLondonMiles * mileToKm\n",
        "distanceToLondonKm"
      ],
      "metadata": {
        "colab": {
          "base_uri": "https://localhost:8080/"
        },
        "id": "h1nRLQUe_rDY",
        "outputId": "df661b9f-4dc8-4dac-cc83-046f3f43cd74"
      },
      "execution_count": null,
      "outputs": [
        {
          "output_type": "execute_result",
          "data": {
            "text/plain": [
              "648.56402"
            ]
          },
          "metadata": {},
          "execution_count": 3
        }
      ]
    },
    {
      "cell_type": "code",
      "source": [
        "marathonDistanceMiles = 26.219\n",
        "mileToKm = 1.60934  # reuse / redefine if needed\n",
        "marathonDistanceKm = marathonDistanceMiles * mileToKm\n",
        "print(marathonDistanceKm)"
      ],
      "metadata": {
        "colab": {
          "base_uri": "https://localhost:8080/"
        },
        "id": "dvPTTUh7_r-Z",
        "outputId": "074efa6a-f9d8-48e7-f856-411c473675b5"
      },
      "execution_count": null,
      "outputs": [
        {
          "output_type": "stream",
          "name": "stdout",
          "text": [
            "42.19528546\n"
          ]
        }
      ]
    },
    {
      "cell_type": "markdown",
      "source": [
        "| Type      | Declaration | Example         | Usage                                  |\n",
        "|-----------|-------------|-----------------|----------------------------------------|\n",
        "| Integer   | `int`       | `x = 124`       | Numbers without decimal point          |\n",
        "| Float     | `float`     | `x = 124.56`    | Numbers with decimal point             |\n",
        "| String    | `str`       | `x = \"Hello\"`   | Text                                   |\n",
        "| Boolean   | `bool`      | `x = True`      | Conditional logic (True/False)         |\n",
        "| NoneType  | `None`      | `x = None`      | Represents “no value” / empty variable |\n"
      ],
      "metadata": {
        "id": "oIQ1IgkQ_xpV"
      }
    },
    {
      "cell_type": "code",
      "source": [
        "x = 10       # This is an integer\n",
        "y = \"20\"     # This is a string\n",
        "x + y        # TypeError: unsupported operand type(s) for +: 'int' and 'str'"
      ],
      "metadata": {
        "colab": {
          "base_uri": "https://localhost:8080/",
          "height": 176
        },
        "id": "uiCA2ed0_zuo",
        "outputId": "f241dcc2-8364-46e5-fbac-a5ca0e63d35c"
      },
      "execution_count": null,
      "outputs": [
        {
          "output_type": "error",
          "ename": "TypeError",
          "evalue": "unsupported operand type(s) for +: 'int' and 'str'",
          "traceback": [
            "\u001b[0;31m---------------------------------------------------------------------------\u001b[0m",
            "\u001b[0;31mTypeError\u001b[0m                                 Traceback (most recent call last)",
            "\u001b[0;32m/tmp/ipython-input-4240319305.py\u001b[0m in \u001b[0;36m<cell line: 0>\u001b[0;34m()\u001b[0m\n\u001b[1;32m      1\u001b[0m \u001b[0mx\u001b[0m \u001b[0;34m=\u001b[0m \u001b[0;36m10\u001b[0m       \u001b[0;31m# This is an integer\u001b[0m\u001b[0;34m\u001b[0m\u001b[0;34m\u001b[0m\u001b[0m\n\u001b[1;32m      2\u001b[0m \u001b[0my\u001b[0m \u001b[0;34m=\u001b[0m \u001b[0;34m\"20\"\u001b[0m     \u001b[0;31m# This is a string\u001b[0m\u001b[0;34m\u001b[0m\u001b[0;34m\u001b[0m\u001b[0m\n\u001b[0;32m----> 3\u001b[0;31m \u001b[0mx\u001b[0m \u001b[0;34m+\u001b[0m \u001b[0my\u001b[0m        \u001b[0;31m# TypeError: unsupported operand type(s) for +: 'int' and 'str'\u001b[0m\u001b[0;34m\u001b[0m\u001b[0;34m\u001b[0m\u001b[0m\n\u001b[0m",
            "\u001b[0;31mTypeError\u001b[0m: unsupported operand type(s) for +: 'int' and 'str'"
          ]
        }
      ]
    },
    {
      "cell_type": "code",
      "source": [
        "x = 10       # This is an integer\n",
        "y = \"20\"     # This is a string\n",
        "x + int(y)\n"
      ],
      "metadata": {
        "id": "NdQR7SBNATzF"
      },
      "execution_count": null,
      "outputs": []
    },
    {
      "cell_type": "code",
      "source": [
        "x = \"10\"\n",
        "y = \"20\"\n",
        "x + y\n"
      ],
      "metadata": {
        "id": "z-KMKpjRAWWs"
      },
      "execution_count": null,
      "outputs": []
    },
    {
      "cell_type": "code",
      "source": [
        "16 ** 2 / 4"
      ],
      "metadata": {
        "id": "pTxJCNr_AX9y"
      },
      "execution_count": null,
      "outputs": []
    },
    {
      "cell_type": "code",
      "source": [
        "4 + 3 ** 2"
      ],
      "metadata": {
        "id": "GMw8ZxrGAg1A"
      },
      "execution_count": null,
      "outputs": []
    },
    {
      "cell_type": "code",
      "source": [
        "x = \"Python\"\n",
        "y = \"rocks\"\n",
        "x + \" \" + y\n",
        "\n",
        "x = \"This can be\"\n",
        "y = \"repeated \"\n",
        "x + \" \" + y * 3"
      ],
      "metadata": {
        "id": "b_qG9c14Aiuz"
      },
      "execution_count": null,
      "outputs": []
    },
    {
      "cell_type": "markdown",
      "source": [
        "## Strings"
      ],
      "metadata": {
        "id": "SgTMJgXnAnTC"
      }
    },
    {
      "cell_type": "code",
      "source": [
        "x = \"Edinburgh\"\n",
        "x = x.upper()\n",
        "\n",
        "y = \"University Of \"\n",
        "y = y.lower()\n",
        "\n",
        "y + x"
      ],
      "metadata": {
        "id": "mHPsMcAmAobh"
      },
      "execution_count": null,
      "outputs": []
    },
    {
      "cell_type": "code",
      "source": [
        "print(\"Python is powerful!\")\n",
        "\n",
        "x = \"Python is powerful\"\n",
        "y = \" and versatile!\"\n",
        "print(x + y)"
      ],
      "metadata": {
        "id": "5Tm67Ka1Arov"
      },
      "execution_count": null,
      "outputs": []
    },
    {
      "cell_type": "code",
      "source": [
        "x = \"\"\"To include\n",
        "multiple lines\n",
        "you have to do this\"\"\"\n",
        "y = \"or you can also\\ninclude the special\\ncharacter '\\\\n' between lines\"\n",
        "\n",
        "print(x)\n",
        "print(y)"
      ],
      "metadata": {
        "id": "1SCmkC75AtDl"
      },
      "execution_count": null,
      "outputs": []
    },
    {
      "cell_type": "code",
      "source": [
        "str1 = \"It has\"\n",
        "str2 = 76\n",
        "str3 = \"methods!\"\n",
        "print(str1, str2, str3)"
      ],
      "metadata": {
        "id": "Puro3-K4A1eT"
      },
      "execution_count": null,
      "outputs": []
    },
    {
      "cell_type": "code",
      "source": [
        "pi = 3.14159                     # Pi\n",
        "d = 12756                        # Diameter of Earth at equator (km)\n",
        "c = pi * d                       # Circumference\n",
        "\n",
        "# Using + and casting\n",
        "print(\"Earth's diameter at equator: \" + str(d) + \"km. Equator's circumference:\" + str(c) + \" km.\")\n",
        "\n",
        "# Using several arguments\n",
        "print(\"Earth's diameter at equator:\", d, \"km. Equator's circumference:\", c, \"km.\")\n",
        "\n",
        "# Using .format with formatting\n",
        "print(\"Earth's diameter at equator: {:.1f} km. Equator's circumference: {:.1f} km.\".format(d, c))\n"
      ],
      "metadata": {
        "id": "xv6UPklsA3lt"
      },
      "execution_count": null,
      "outputs": []
    },
    {
      "cell_type": "code",
      "source": [],
      "metadata": {
        "id": "0aRHes-IEcE0"
      },
      "execution_count": null,
      "outputs": []
    }
  ]
}